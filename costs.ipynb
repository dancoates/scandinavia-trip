{
 "cells": [
  {
   "cell_type": "code",
   "execution_count": 21,
   "metadata": {},
   "outputs": [],
   "source": [
    "import pandas as pd\n",
    "import altair as alt"
   ]
  },
  {
   "cell_type": "code",
   "execution_count": 76,
   "metadata": {},
   "outputs": [
    {
     "data": {
      "text/html": [
       "<div>\n",
       "<style scoped>\n",
       "    .dataframe tbody tr th:only-of-type {\n",
       "        vertical-align: middle;\n",
       "    }\n",
       "\n",
       "    .dataframe tbody tr th {\n",
       "        vertical-align: top;\n",
       "    }\n",
       "\n",
       "    .dataframe thead th {\n",
       "        text-align: right;\n",
       "    }\n",
       "</style>\n",
       "<table border=\"1\" class=\"dataframe\">\n",
       "  <thead>\n",
       "    <tr style=\"text-align: right;\">\n",
       "      <th></th>\n",
       "      <th>date_start</th>\n",
       "      <th>name</th>\n",
       "      <th>category</th>\n",
       "      <th>subcategory</th>\n",
       "      <th>country</th>\n",
       "      <th>city</th>\n",
       "      <th>cost</th>\n",
       "      <th>transaction</th>\n",
       "    </tr>\n",
       "  </thead>\n",
       "  <tbody>\n",
       "    <tr>\n",
       "      <th>0</th>\n",
       "      <td>2018-09-09</td>\n",
       "      <td>Aus to Denmark flight</td>\n",
       "      <td>transport</td>\n",
       "      <td>flight</td>\n",
       "      <td>NaN</td>\n",
       "      <td>NaN</td>\n",
       "      <td>871.51</td>\n",
       "      <td>NaN</td>\n",
       "    </tr>\n",
       "    <tr>\n",
       "      <th>1</th>\n",
       "      <td>2018-09-10</td>\n",
       "      <td>Dubai airport lunch</td>\n",
       "      <td>food</td>\n",
       "      <td>lunch</td>\n",
       "      <td>UAE</td>\n",
       "      <td>Dubai</td>\n",
       "      <td>13.17</td>\n",
       "      <td>NaN</td>\n",
       "    </tr>\n",
       "    <tr>\n",
       "      <th>2</th>\n",
       "      <td>2018-09-11</td>\n",
       "      <td>CPH metro ticket</td>\n",
       "      <td>transport</td>\n",
       "      <td>train</td>\n",
       "      <td>Denmark</td>\n",
       "      <td>Copenhagen</td>\n",
       "      <td>17.38</td>\n",
       "      <td>NaN</td>\n",
       "    </tr>\n",
       "    <tr>\n",
       "      <th>3</th>\n",
       "      <td>2018-09-10</td>\n",
       "      <td>Copenhagen airbnb</td>\n",
       "      <td>accomodation</td>\n",
       "      <td>accomodation</td>\n",
       "      <td>Denmark</td>\n",
       "      <td>Copenhagen</td>\n",
       "      <td>131.52</td>\n",
       "      <td>NaN</td>\n",
       "    </tr>\n",
       "    <tr>\n",
       "      <th>4</th>\n",
       "      <td>2018-09-11</td>\n",
       "      <td>Reykjavik airbnb</td>\n",
       "      <td>accomodation</td>\n",
       "      <td>accomodation</td>\n",
       "      <td>Iceland</td>\n",
       "      <td>Reykjavik</td>\n",
       "      <td>90.99</td>\n",
       "      <td>NaN</td>\n",
       "    </tr>\n",
       "  </tbody>\n",
       "</table>\n",
       "</div>"
      ],
      "text/plain": [
       "  date_start                   name      category   subcategory  country  \\\n",
       "0 2018-09-09  Aus to Denmark flight     transport        flight      NaN   \n",
       "1 2018-09-10    Dubai airport lunch          food         lunch      UAE   \n",
       "2 2018-09-11       CPH metro ticket     transport         train  Denmark   \n",
       "3 2018-09-10      Copenhagen airbnb  accomodation  accomodation  Denmark   \n",
       "4 2018-09-11       Reykjavik airbnb  accomodation  accomodation  Iceland   \n",
       "\n",
       "         city    cost transaction  \n",
       "0         NaN  871.51         NaN  \n",
       "1       Dubai   13.17         NaN  \n",
       "2  Copenhagen   17.38         NaN  \n",
       "3  Copenhagen  131.52         NaN  \n",
       "4   Reykjavik   90.99         NaN  "
      ]
     },
     "execution_count": 76,
     "metadata": {},
     "output_type": "execute_result"
    }
   ],
   "source": [
    "df = pd.read_csv('./costs.csv')\n",
    "df['date_start'] = pd.to_datetime(df['date_start'], format=\"%Y-%m-%d\")\n",
    "df.head()"
   ]
  },
  {
   "cell_type": "code",
   "execution_count": 55,
   "metadata": {},
   "outputs": [
    {
     "data": {
      "text/html": [
       "<div>\n",
       "<style scoped>\n",
       "    .dataframe tbody tr th:only-of-type {\n",
       "        vertical-align: middle;\n",
       "    }\n",
       "\n",
       "    .dataframe tbody tr th {\n",
       "        vertical-align: top;\n",
       "    }\n",
       "\n",
       "    .dataframe thead th {\n",
       "        text-align: right;\n",
       "    }\n",
       "</style>\n",
       "<table border=\"1\" class=\"dataframe\">\n",
       "  <thead>\n",
       "    <tr style=\"text-align: right;\">\n",
       "      <th></th>\n",
       "      <th>cost</th>\n",
       "    </tr>\n",
       "    <tr>\n",
       "      <th>country</th>\n",
       "      <th></th>\n",
       "    </tr>\n",
       "  </thead>\n",
       "  <tbody>\n",
       "    <tr>\n",
       "      <th>Denmark</th>\n",
       "      <td>2201.615000</td>\n",
       "    </tr>\n",
       "    <tr>\n",
       "      <th>Norway</th>\n",
       "      <td>2130.453333</td>\n",
       "    </tr>\n",
       "    <tr>\n",
       "      <th>Iceland</th>\n",
       "      <td>2005.850000</td>\n",
       "    </tr>\n",
       "    <tr>\n",
       "      <th>Sweden</th>\n",
       "      <td>31.760000</td>\n",
       "    </tr>\n",
       "    <tr>\n",
       "      <th>UAE</th>\n",
       "      <td>13.170000</td>\n",
       "    </tr>\n",
       "  </tbody>\n",
       "</table>\n",
       "</div>"
      ],
      "text/plain": [
       "                cost\n",
       "country             \n",
       "Denmark  2201.615000\n",
       "Norway   2130.453333\n",
       "Iceland  2005.850000\n",
       "Sweden     31.760000\n",
       "UAE        13.170000"
      ]
     },
     "execution_count": 55,
     "metadata": {},
     "output_type": "execute_result"
    }
   ],
   "source": [
    "countries = df.groupby('country').agg('sum').sort_values(by='cost', ascending=False)\n",
    "countries"
   ]
  },
  {
   "cell_type": "code",
   "execution_count": 56,
   "metadata": {},
   "outputs": [
    {
     "data": {
      "text/html": [
       "<div>\n",
       "<style scoped>\n",
       "    .dataframe tbody tr th:only-of-type {\n",
       "        vertical-align: middle;\n",
       "    }\n",
       "\n",
       "    .dataframe tbody tr th {\n",
       "        vertical-align: top;\n",
       "    }\n",
       "\n",
       "    .dataframe thead th {\n",
       "        text-align: right;\n",
       "    }\n",
       "</style>\n",
       "<table border=\"1\" class=\"dataframe\">\n",
       "  <thead>\n",
       "    <tr style=\"text-align: right;\">\n",
       "      <th></th>\n",
       "      <th>cost</th>\n",
       "    </tr>\n",
       "    <tr>\n",
       "      <th>city</th>\n",
       "      <th></th>\n",
       "    </tr>\n",
       "  </thead>\n",
       "  <tbody>\n",
       "    <tr>\n",
       "      <th>Copenhagen</th>\n",
       "      <td>809.685000</td>\n",
       "    </tr>\n",
       "    <tr>\n",
       "      <th>Aarhus</th>\n",
       "      <td>400.115000</td>\n",
       "    </tr>\n",
       "    <tr>\n",
       "      <th>Reykjavik</th>\n",
       "      <td>352.415000</td>\n",
       "    </tr>\n",
       "    <tr>\n",
       "      <th>Loen</th>\n",
       "      <td>296.750000</td>\n",
       "    </tr>\n",
       "    <tr>\n",
       "      <th>Oslo</th>\n",
       "      <td>275.645000</td>\n",
       "    </tr>\n",
       "    <tr>\n",
       "      <th>Bergen</th>\n",
       "      <td>268.443333</td>\n",
       "    </tr>\n",
       "    <tr>\n",
       "      <th>Bornholm</th>\n",
       "      <td>240.145000</td>\n",
       "    </tr>\n",
       "    <tr>\n",
       "      <th>Akureyri</th>\n",
       "      <td>183.765000</td>\n",
       "    </tr>\n",
       "    <tr>\n",
       "      <th>Hofn</th>\n",
       "      <td>172.355000</td>\n",
       "    </tr>\n",
       "    <tr>\n",
       "      <th>Ringebu</th>\n",
       "      <td>118.810000</td>\n",
       "    </tr>\n",
       "    <tr>\n",
       "      <th>Hvolsvöllur</th>\n",
       "      <td>118.290000</td>\n",
       "    </tr>\n",
       "    <tr>\n",
       "      <th>Blonduos</th>\n",
       "      <td>93.795000</td>\n",
       "    </tr>\n",
       "    <tr>\n",
       "      <th>Flam</th>\n",
       "      <td>92.760000</td>\n",
       "    </tr>\n",
       "    <tr>\n",
       "      <th>Reyðarfjörður</th>\n",
       "      <td>83.490000</td>\n",
       "    </tr>\n",
       "    <tr>\n",
       "      <th>Myvatn</th>\n",
       "      <td>81.500000</td>\n",
       "    </tr>\n",
       "    <tr>\n",
       "      <th>Sogndal</th>\n",
       "      <td>77.965000</td>\n",
       "    </tr>\n",
       "    <tr>\n",
       "      <th>Gausta</th>\n",
       "      <td>71.650000</td>\n",
       "    </tr>\n",
       "    <tr>\n",
       "      <th>Selfoss</th>\n",
       "      <td>64.895000</td>\n",
       "    </tr>\n",
       "    <tr>\n",
       "      <th>Rauland</th>\n",
       "      <td>60.340000</td>\n",
       "    </tr>\n",
       "    <tr>\n",
       "      <th>Stadarskali</th>\n",
       "      <td>49.310000</td>\n",
       "    </tr>\n",
       "    <tr>\n",
       "      <th>Otta</th>\n",
       "      <td>47.530000</td>\n",
       "    </tr>\n",
       "    <tr>\n",
       "      <th>Hvammstangi</th>\n",
       "      <td>35.810000</td>\n",
       "    </tr>\n",
       "    <tr>\n",
       "      <th>Vik</th>\n",
       "      <td>27.690000</td>\n",
       "    </tr>\n",
       "    <tr>\n",
       "      <th>Ystad</th>\n",
       "      <td>23.320000</td>\n",
       "    </tr>\n",
       "    <tr>\n",
       "      <th>Reykholt</th>\n",
       "      <td>20.400000</td>\n",
       "    </tr>\n",
       "    <tr>\n",
       "      <th>Urnes</th>\n",
       "      <td>15.180000</td>\n",
       "    </tr>\n",
       "    <tr>\n",
       "      <th>Dubai</th>\n",
       "      <td>13.170000</td>\n",
       "    </tr>\n",
       "    <tr>\n",
       "      <th>Gerainger</th>\n",
       "      <td>8.350000</td>\n",
       "    </tr>\n",
       "    <tr>\n",
       "      <th>Goteborg</th>\n",
       "      <td>7.660000</td>\n",
       "    </tr>\n",
       "    <tr>\n",
       "      <th>Stöðvarfjörður</th>\n",
       "      <td>6.980000</td>\n",
       "    </tr>\n",
       "  </tbody>\n",
       "</table>\n",
       "</div>"
      ],
      "text/plain": [
       "                      cost\n",
       "city                      \n",
       "Copenhagen      809.685000\n",
       "Aarhus          400.115000\n",
       "Reykjavik       352.415000\n",
       "Loen            296.750000\n",
       "Oslo            275.645000\n",
       "Bergen          268.443333\n",
       "Bornholm        240.145000\n",
       "Akureyri        183.765000\n",
       "Hofn            172.355000\n",
       "Ringebu         118.810000\n",
       "Hvolsvöllur     118.290000\n",
       "Blonduos         93.795000\n",
       "Flam             92.760000\n",
       "Reyðarfjörður    83.490000\n",
       "Myvatn           81.500000\n",
       "Sogndal          77.965000\n",
       "Gausta           71.650000\n",
       "Selfoss          64.895000\n",
       "Rauland          60.340000\n",
       "Stadarskali      49.310000\n",
       "Otta             47.530000\n",
       "Hvammstangi      35.810000\n",
       "Vik              27.690000\n",
       "Ystad            23.320000\n",
       "Reykholt         20.400000\n",
       "Urnes            15.180000\n",
       "Dubai            13.170000\n",
       "Gerainger         8.350000\n",
       "Goteborg          7.660000\n",
       "Stöðvarfjörður    6.980000"
      ]
     },
     "execution_count": 56,
     "metadata": {},
     "output_type": "execute_result"
    }
   ],
   "source": [
    "without_transport = df[df.category != 'transport']\n",
    "cities = without_transport.groupby('city').agg('sum').sort_values(by = 'cost', ascending = False)\n",
    "cities"
   ]
  },
  {
   "cell_type": "code",
   "execution_count": 57,
   "metadata": {},
   "outputs": [
    {
     "data": {
      "text/html": [
       "<div>\n",
       "<style scoped>\n",
       "    .dataframe tbody tr th:only-of-type {\n",
       "        vertical-align: middle;\n",
       "    }\n",
       "\n",
       "    .dataframe tbody tr th {\n",
       "        vertical-align: top;\n",
       "    }\n",
       "\n",
       "    .dataframe thead th {\n",
       "        text-align: right;\n",
       "    }\n",
       "</style>\n",
       "<table border=\"1\" class=\"dataframe\">\n",
       "  <thead>\n",
       "    <tr style=\"text-align: right;\">\n",
       "      <th></th>\n",
       "      <th>cost</th>\n",
       "    </tr>\n",
       "    <tr>\n",
       "      <th>category</th>\n",
       "      <th></th>\n",
       "    </tr>\n",
       "  </thead>\n",
       "  <tbody>\n",
       "    <tr>\n",
       "      <th>transport</th>\n",
       "      <td>4446.325000</td>\n",
       "    </tr>\n",
       "    <tr>\n",
       "      <th>accomodation</th>\n",
       "      <td>2123.078333</td>\n",
       "    </tr>\n",
       "    <tr>\n",
       "      <th>food</th>\n",
       "      <td>1024.675000</td>\n",
       "    </tr>\n",
       "    <tr>\n",
       "      <th>attractions</th>\n",
       "      <td>517.550000</td>\n",
       "    </tr>\n",
       "    <tr>\n",
       "      <th>present</th>\n",
       "      <td>208.430000</td>\n",
       "    </tr>\n",
       "    <tr>\n",
       "      <th>photography</th>\n",
       "      <td>162.570000</td>\n",
       "    </tr>\n",
       "    <tr>\n",
       "      <th>communication</th>\n",
       "      <td>81.910000</td>\n",
       "    </tr>\n",
       "  </tbody>\n",
       "</table>\n",
       "</div>"
      ],
      "text/plain": [
       "                      cost\n",
       "category                  \n",
       "transport      4446.325000\n",
       "accomodation   2123.078333\n",
       "food           1024.675000\n",
       "attractions     517.550000\n",
       "present         208.430000\n",
       "photography     162.570000\n",
       "communication    81.910000"
      ]
     },
     "execution_count": 57,
     "metadata": {},
     "output_type": "execute_result"
    }
   ],
   "source": [
    "categories = df.groupby('category').agg('sum').sort_values(by = 'cost', ascending = False)\n",
    "categories"
   ]
  },
  {
   "cell_type": "code",
   "execution_count": 64,
   "metadata": {},
   "outputs": [
    {
     "data": {
      "text/html": [
       "<div>\n",
       "<style scoped>\n",
       "    .dataframe tbody tr th:only-of-type {\n",
       "        vertical-align: middle;\n",
       "    }\n",
       "\n",
       "    .dataframe tbody tr th {\n",
       "        vertical-align: top;\n",
       "    }\n",
       "\n",
       "    .dataframe thead th {\n",
       "        text-align: right;\n",
       "    }\n",
       "</style>\n",
       "<table border=\"1\" class=\"dataframe\">\n",
       "  <thead>\n",
       "    <tr style=\"text-align: right;\">\n",
       "      <th></th>\n",
       "      <th>cost</th>\n",
       "    </tr>\n",
       "    <tr>\n",
       "      <th>subcategory</th>\n",
       "      <th></th>\n",
       "    </tr>\n",
       "  </thead>\n",
       "  <tbody>\n",
       "    <tr>\n",
       "      <th>dinner</th>\n",
       "      <td>368.455</td>\n",
       "    </tr>\n",
       "    <tr>\n",
       "      <th>groceries</th>\n",
       "      <td>219.580</td>\n",
       "    </tr>\n",
       "    <tr>\n",
       "      <th>lunch</th>\n",
       "      <td>201.765</td>\n",
       "    </tr>\n",
       "    <tr>\n",
       "      <th>snacks</th>\n",
       "      <td>105.630</td>\n",
       "    </tr>\n",
       "    <tr>\n",
       "      <th>drinks</th>\n",
       "      <td>78.640</td>\n",
       "    </tr>\n",
       "    <tr>\n",
       "      <th>breakfast</th>\n",
       "      <td>50.605</td>\n",
       "    </tr>\n",
       "  </tbody>\n",
       "</table>\n",
       "</div>"
      ],
      "text/plain": [
       "                cost\n",
       "subcategory         \n",
       "dinner       368.455\n",
       "groceries    219.580\n",
       "lunch        201.765\n",
       "snacks       105.630\n",
       "drinks        78.640\n",
       "breakfast     50.605"
      ]
     },
     "execution_count": 64,
     "metadata": {},
     "output_type": "execute_result"
    }
   ],
   "source": [
    "food = df[df.category == 'food']\n",
    "food_cats = food.groupby('subcategory').agg('sum').sort_values(by = 'cost', ascending = False)\n",
    "food_cats"
   ]
  },
  {
   "cell_type": "code",
   "execution_count": 68,
   "metadata": {},
   "outputs": [],
   "source": [
    "accom = df[df.category == 'accomodation']\n",
    "accom_countries_mean = accom.groupby('country').agg('mean')\n",
    "accom_countries_sum = accom.groupby('country').agg('sum')\n"
   ]
  },
  {
   "cell_type": "code",
   "execution_count": 69,
   "metadata": {},
   "outputs": [
    {
     "data": {
      "text/html": [
       "<div>\n",
       "<style scoped>\n",
       "    .dataframe tbody tr th:only-of-type {\n",
       "        vertical-align: middle;\n",
       "    }\n",
       "\n",
       "    .dataframe tbody tr th {\n",
       "        vertical-align: top;\n",
       "    }\n",
       "\n",
       "    .dataframe thead th {\n",
       "        text-align: right;\n",
       "    }\n",
       "</style>\n",
       "<table border=\"1\" class=\"dataframe\">\n",
       "  <thead>\n",
       "    <tr style=\"text-align: right;\">\n",
       "      <th></th>\n",
       "      <th>cost</th>\n",
       "    </tr>\n",
       "    <tr>\n",
       "      <th>country</th>\n",
       "      <th></th>\n",
       "    </tr>\n",
       "  </thead>\n",
       "  <tbody>\n",
       "    <tr>\n",
       "      <th>Denmark</th>\n",
       "      <td>90.170000</td>\n",
       "    </tr>\n",
       "    <tr>\n",
       "      <th>Iceland</th>\n",
       "      <td>92.215625</td>\n",
       "    </tr>\n",
       "    <tr>\n",
       "      <th>Norway</th>\n",
       "      <td>83.795926</td>\n",
       "    </tr>\n",
       "  </tbody>\n",
       "</table>\n",
       "</div>"
      ],
      "text/plain": [
       "              cost\n",
       "country           \n",
       "Denmark  90.170000\n",
       "Iceland  92.215625\n",
       "Norway   83.795926"
      ]
     },
     "execution_count": 69,
     "metadata": {},
     "output_type": "execute_result"
    }
   ],
   "source": [
    "accom_countries_mean"
   ]
  },
  {
   "cell_type": "code",
   "execution_count": 70,
   "metadata": {},
   "outputs": [
    {
     "data": {
      "text/html": [
       "<div>\n",
       "<style scoped>\n",
       "    .dataframe tbody tr th:only-of-type {\n",
       "        vertical-align: middle;\n",
       "    }\n",
       "\n",
       "    .dataframe tbody tr th {\n",
       "        vertical-align: top;\n",
       "    }\n",
       "\n",
       "    .dataframe thead th {\n",
       "        text-align: right;\n",
       "    }\n",
       "</style>\n",
       "<table border=\"1\" class=\"dataframe\">\n",
       "  <thead>\n",
       "    <tr style=\"text-align: right;\">\n",
       "      <th></th>\n",
       "      <th>cost</th>\n",
       "    </tr>\n",
       "    <tr>\n",
       "      <th>country</th>\n",
       "      <th></th>\n",
       "    </tr>\n",
       "  </thead>\n",
       "  <tbody>\n",
       "    <tr>\n",
       "      <th>Denmark</th>\n",
       "      <td>631.190000</td>\n",
       "    </tr>\n",
       "    <tr>\n",
       "      <th>Iceland</th>\n",
       "      <td>737.725000</td>\n",
       "    </tr>\n",
       "    <tr>\n",
       "      <th>Norway</th>\n",
       "      <td>754.163333</td>\n",
       "    </tr>\n",
       "  </tbody>\n",
       "</table>\n",
       "</div>"
      ],
      "text/plain": [
       "               cost\n",
       "country            \n",
       "Denmark  631.190000\n",
       "Iceland  737.725000\n",
       "Norway   754.163333"
      ]
     },
     "execution_count": 70,
     "metadata": {},
     "output_type": "execute_result"
    }
   ],
   "source": [
    "accom_countries_sum"
   ]
  },
  {
   "cell_type": "code",
   "execution_count": 81,
   "metadata": {},
   "outputs": [
    {
     "data": {
      "text/html": [
       "<div>\n",
       "<style scoped>\n",
       "    .dataframe tbody tr th:only-of-type {\n",
       "        vertical-align: middle;\n",
       "    }\n",
       "\n",
       "    .dataframe tbody tr th {\n",
       "        vertical-align: top;\n",
       "    }\n",
       "\n",
       "    .dataframe thead th {\n",
       "        text-align: right;\n",
       "    }\n",
       "</style>\n",
       "<table border=\"1\" class=\"dataframe\">\n",
       "  <thead>\n",
       "    <tr style=\"text-align: right;\">\n",
       "      <th></th>\n",
       "      <th>date_start</th>\n",
       "      <th>cost</th>\n",
       "    </tr>\n",
       "  </thead>\n",
       "  <tbody>\n",
       "    <tr>\n",
       "      <th>0</th>\n",
       "      <td>2018-09-10</td>\n",
       "      <td>388.105000</td>\n",
       "    </tr>\n",
       "    <tr>\n",
       "      <th>1</th>\n",
       "      <td>2018-09-11</td>\n",
       "      <td>147.885000</td>\n",
       "    </tr>\n",
       "    <tr>\n",
       "      <th>2</th>\n",
       "      <td>2018-09-12</td>\n",
       "      <td>210.785000</td>\n",
       "    </tr>\n",
       "    <tr>\n",
       "      <th>3</th>\n",
       "      <td>2018-09-13</td>\n",
       "      <td>209.355000</td>\n",
       "    </tr>\n",
       "    <tr>\n",
       "      <th>4</th>\n",
       "      <td>2018-09-14</td>\n",
       "      <td>175.210000</td>\n",
       "    </tr>\n",
       "    <tr>\n",
       "      <th>5</th>\n",
       "      <td>2018-09-15</td>\n",
       "      <td>151.145000</td>\n",
       "    </tr>\n",
       "    <tr>\n",
       "      <th>6</th>\n",
       "      <td>2018-09-16</td>\n",
       "      <td>174.170000</td>\n",
       "    </tr>\n",
       "    <tr>\n",
       "      <th>7</th>\n",
       "      <td>2018-09-17</td>\n",
       "      <td>64.895000</td>\n",
       "    </tr>\n",
       "    <tr>\n",
       "      <th>8</th>\n",
       "      <td>2018-09-18</td>\n",
       "      <td>173.945000</td>\n",
       "    </tr>\n",
       "    <tr>\n",
       "      <th>9</th>\n",
       "      <td>2018-09-19</td>\n",
       "      <td>124.490000</td>\n",
       "    </tr>\n",
       "    <tr>\n",
       "      <th>10</th>\n",
       "      <td>2018-09-20</td>\n",
       "      <td>131.990000</td>\n",
       "    </tr>\n",
       "    <tr>\n",
       "      <th>11</th>\n",
       "      <td>2018-09-21</td>\n",
       "      <td>131.881667</td>\n",
       "    </tr>\n",
       "    <tr>\n",
       "      <th>12</th>\n",
       "      <td>2018-09-22</td>\n",
       "      <td>136.561667</td>\n",
       "    </tr>\n",
       "    <tr>\n",
       "      <th>13</th>\n",
       "      <td>2018-09-23</td>\n",
       "      <td>170.725000</td>\n",
       "    </tr>\n",
       "    <tr>\n",
       "      <th>14</th>\n",
       "      <td>2018-09-24</td>\n",
       "      <td>114.975000</td>\n",
       "    </tr>\n",
       "    <tr>\n",
       "      <th>15</th>\n",
       "      <td>2018-09-25</td>\n",
       "      <td>205.305000</td>\n",
       "    </tr>\n",
       "    <tr>\n",
       "      <th>16</th>\n",
       "      <td>2018-09-26</td>\n",
       "      <td>166.340000</td>\n",
       "    </tr>\n",
       "    <tr>\n",
       "      <th>17</th>\n",
       "      <td>2018-09-27</td>\n",
       "      <td>151.155000</td>\n",
       "    </tr>\n",
       "    <tr>\n",
       "      <th>18</th>\n",
       "      <td>2018-09-28</td>\n",
       "      <td>134.615000</td>\n",
       "    </tr>\n",
       "    <tr>\n",
       "      <th>19</th>\n",
       "      <td>2018-09-29</td>\n",
       "      <td>279.715000</td>\n",
       "    </tr>\n",
       "    <tr>\n",
       "      <th>20</th>\n",
       "      <td>2018-09-30</td>\n",
       "      <td>137.967500</td>\n",
       "    </tr>\n",
       "    <tr>\n",
       "      <th>21</th>\n",
       "      <td>2018-10-01</td>\n",
       "      <td>106.187500</td>\n",
       "    </tr>\n",
       "    <tr>\n",
       "      <th>22</th>\n",
       "      <td>2018-10-02</td>\n",
       "      <td>99.582500</td>\n",
       "    </tr>\n",
       "    <tr>\n",
       "      <th>23</th>\n",
       "      <td>2018-10-03</td>\n",
       "      <td>319.842500</td>\n",
       "    </tr>\n",
       "    <tr>\n",
       "      <th>24</th>\n",
       "      <td>2018-10-04</td>\n",
       "      <td>11.385000</td>\n",
       "    </tr>\n",
       "  </tbody>\n",
       "</table>\n",
       "</div>"
      ],
      "text/plain": [
       "   date_start        cost\n",
       "0  2018-09-10  388.105000\n",
       "1  2018-09-11  147.885000\n",
       "2  2018-09-12  210.785000\n",
       "3  2018-09-13  209.355000\n",
       "4  2018-09-14  175.210000\n",
       "5  2018-09-15  151.145000\n",
       "6  2018-09-16  174.170000\n",
       "7  2018-09-17   64.895000\n",
       "8  2018-09-18  173.945000\n",
       "9  2018-09-19  124.490000\n",
       "10 2018-09-20  131.990000\n",
       "11 2018-09-21  131.881667\n",
       "12 2018-09-22  136.561667\n",
       "13 2018-09-23  170.725000\n",
       "14 2018-09-24  114.975000\n",
       "15 2018-09-25  205.305000\n",
       "16 2018-09-26  166.340000\n",
       "17 2018-09-27  151.155000\n",
       "18 2018-09-28  134.615000\n",
       "19 2018-09-29  279.715000\n",
       "20 2018-09-30  137.967500\n",
       "21 2018-10-01  106.187500\n",
       "22 2018-10-02   99.582500\n",
       "23 2018-10-03  319.842500\n",
       "24 2018-10-04   11.385000"
      ]
     },
     "execution_count": 81,
     "metadata": {},
     "output_type": "execute_result"
    }
   ],
   "source": [
    "by_day = without_transport.groupby('date_start').agg('sum').sort_values(by = 'date_start').reset_index()\n",
    "by_day"
   ]
  },
  {
   "cell_type": "code",
   "execution_count": 91,
   "metadata": {},
   "outputs": [
    {
     "data": {
      "application/vnd.vegalite.v2+json": {
       "$schema": "https://vega.github.io/schema/vega-lite/v2.6.0.json",
       "config": {
        "view": {
         "height": 300,
         "width": 400
        }
       },
       "datasets": {
        "data-c8fd076cb19c8eaca4388a36988ffb7e": [
         {
          "cost": 388.105,
          "date_start": "2018-09-10T00:00:00"
         },
         {
          "cost": 147.885,
          "date_start": "2018-09-11T00:00:00"
         },
         {
          "cost": 210.785,
          "date_start": "2018-09-12T00:00:00"
         },
         {
          "cost": 209.355,
          "date_start": "2018-09-13T00:00:00"
         },
         {
          "cost": 175.20999999999998,
          "date_start": "2018-09-14T00:00:00"
         },
         {
          "cost": 151.145,
          "date_start": "2018-09-15T00:00:00"
         },
         {
          "cost": 174.17000000000002,
          "date_start": "2018-09-16T00:00:00"
         },
         {
          "cost": 64.895,
          "date_start": "2018-09-17T00:00:00"
         },
         {
          "cost": 173.945,
          "date_start": "2018-09-18T00:00:00"
         },
         {
          "cost": 124.49,
          "date_start": "2018-09-19T00:00:00"
         },
         {
          "cost": 131.99,
          "date_start": "2018-09-20T00:00:00"
         },
         {
          "cost": 131.8816666667,
          "date_start": "2018-09-21T00:00:00"
         },
         {
          "cost": 136.56166666669998,
          "date_start": "2018-09-22T00:00:00"
         },
         {
          "cost": 170.72500000000002,
          "date_start": "2018-09-23T00:00:00"
         },
         {
          "cost": 114.975,
          "date_start": "2018-09-24T00:00:00"
         },
         {
          "cost": 205.30499999999998,
          "date_start": "2018-09-25T00:00:00"
         },
         {
          "cost": 166.34,
          "date_start": "2018-09-26T00:00:00"
         },
         {
          "cost": 151.155,
          "date_start": "2018-09-27T00:00:00"
         },
         {
          "cost": 134.615,
          "date_start": "2018-09-28T00:00:00"
         },
         {
          "cost": 279.715,
          "date_start": "2018-09-29T00:00:00"
         },
         {
          "cost": 137.9675,
          "date_start": "2018-09-30T00:00:00"
         },
         {
          "cost": 106.1875,
          "date_start": "2018-10-01T00:00:00"
         },
         {
          "cost": 99.58250000000001,
          "date_start": "2018-10-02T00:00:00"
         },
         {
          "cost": 319.84250000000003,
          "date_start": "2018-10-03T00:00:00"
         },
         {
          "cost": 11.385,
          "date_start": "2018-10-04T00:00:00"
         }
        ]
       },
       "layer": [
        {
         "data": {
          "name": "data-c8fd076cb19c8eaca4388a36988ffb7e"
         },
         "encoding": {
          "x": {
           "field": "date_start",
           "type": "temporal"
          },
          "y": {
           "field": "cost",
           "type": "quantitative"
          }
         },
         "mark": "line",
         "selection": {
          "selector023": {
           "bind": "scales",
           "encodings": [
            "x",
            "y"
           ],
           "mark": {
            "fill": "#333",
            "fillOpacity": 0.125,
            "stroke": "white"
           },
           "on": "[mousedown, window:mouseup] > window:mousemove!",
           "resolve": "global",
           "translate": "[mousedown, window:mouseup] > window:mousemove!",
           "type": "interval",
           "zoom": "wheel!"
          }
         }
        },
        {
         "data": {
          "name": "data-c8fd076cb19c8eaca4388a36988ffb7e"
         },
         "encoding": {
          "tooltip": [
           {
            "field": "cost",
            "type": "quantitative"
           }
          ],
          "x": {
           "field": "date_start",
           "type": "temporal"
          },
          "y": {
           "field": "cost",
           "type": "quantitative"
          }
         },
         "mark": {
          "size": 60,
          "type": "circle"
         }
        }
       ]
      },
      "image/png": "[encoded data removed]",
      "text/plain": [
       "<VegaLite 2 object>\n",
       "\n",
       "If you see this message, it means the renderer has not been properly enabled\n",
       "for the frontend that you are using. For more information, see\n",
       "https://altair-viz.github.io/user_guide/troubleshooting.html\n"
      ]
     },
     "execution_count": 91,
     "metadata": {},
     "output_type": "execute_result"
    }
   ],
   "source": [
    "line = alt.Chart(by_day).mark_line().encode(\n",
    "    y='cost',\n",
    "    x='date_start'\n",
    ").interactive()\n",
    "\n",
    "circles = alt.Chart(by_day).mark_circle(size = 60).encode(\n",
    "    y='cost',\n",
    "    x='date_start',\n",
    "    tooltip=['cost']\n",
    ")\n",
    "\n",
    "alt.layer(line, circles)"
   ]
  },
  {
   "cell_type": "code",
   "execution_count": null,
   "metadata": {},
   "outputs": [],
   "source": []
  }
 ],
 "metadata": {
  "kernelspec": {
   "display_name": "Python 3",
   "language": "python",
   "name": "python3"
  },
  "language_info": {
   "codemirror_mode": {
    "name": "ipython",
    "version": 3
   },
   "file_extension": ".py",
   "mimetype": "text/x-python",
   "name": "python",
   "nbconvert_exporter": "python",
   "pygments_lexer": "ipython3",
   "version": "3.7.0"
  }
 },
 "nbformat": 4,
 "nbformat_minor": 2
}
